{
 "cells": [
  {
   "cell_type": "code",
   "execution_count": 1,
   "metadata": {},
   "outputs": [
    {
     "name": "stderr",
     "output_type": "stream",
     "text": [
      "/Users/akshayrakheja/Documents/pinecone-hackathon/.venv/lib/python3.11/site-packages/pinecone/index.py:4: TqdmExperimentalWarning: Using `tqdm.autonotebook.tqdm` in notebook mode. Use `tqdm.tqdm` instead to force console mode (e.g. in jupyter console)\n",
      "  from tqdm.autonotebook import tqdm\n"
     ]
    }
   ],
   "source": [
    "from langchain.vectorstores import Pinecone\n",
    "from os import environ\n",
    "from langchain.embeddings.openai import OpenAIEmbeddings\n",
    "from dotenv import load_dotenv\n",
    "\n",
    "load_dotenv()\n",
    "\n",
    "environ.get(\"PINECONE_ENVIRONMENT\")\n",
    "pinecone.init(\n",
    "    # api_key=environ.get(\"PINECONE_API_KEY\"), \n",
    "    # environment=environ.get(\"PINECONE_ENVIRONMENT\")\n",
    ")\n",
    "index_name = 'pinecone-hackathon-test'\n"
   ]
  },
  {
   "cell_type": "code",
   "execution_count": 10,
   "metadata": {},
   "outputs": [
    {
     "name": "stdout",
     "output_type": "stream",
     "text": [
      "<langchain.vectorstores.pinecone.Pinecone object at 0x127cb3450>\n"
     ]
    }
   ],
   "source": [
    "pinecone_index = pinecone.Index(index_name=index_name)\n",
    "embeddings = OpenAIEmbeddings()\n",
    "vectorstore = Pinecone(pinecone_index, embeddings.embed_query, \"text\")\n",
    "print(vectorstore)\n",
    "# print(pinecone_index.describe_index())"
   ]
  },
  {
   "cell_type": "code",
   "execution_count": 11,
   "metadata": {},
   "outputs": [
    {
     "name": "stdout",
     "output_type": "stream",
     "text": [
      "IndexDescription(name='pinecone-hackathon-test', metric='cosine', replicas=1, dimension=1536.0, shards=1, pods=1, pod_type='p1.x1', status={'ready': True, 'state': 'Ready'}, metadata_config=None, source_collection='')\n"
     ]
    }
   ],
   "source": [
    "print(pinecone.describe_index(index_name))"
   ]
  },
  {
   "cell_type": "code",
   "execution_count": 27,
   "metadata": {},
   "outputs": [],
   "source": [
    "query = \"How do you connect two nodes in reactflow?\"\n",
    "docs = vectorstore.similarity_search(query)\n"
   ]
  },
  {
   "cell_type": "code",
   "execution_count": 28,
   "metadata": {},
   "outputs": [
    {
     "name": "stdout",
     "output_type": "stream",
     "text": [
      "4\n"
     ]
    }
   ],
   "source": [
    "print(len(docs))\n",
    "sample_code = docs[0].page_content"
   ]
  },
  {
   "cell_type": "code",
   "execution_count": 25,
   "metadata": {},
   "outputs": [
    {
     "name": "stdout",
     "output_type": "stream",
     "text": [
      "{'file_name': 'index.tsx', 'file_path': 'examples/vite-app/src/examples/Switch/index.tsx', 'file_type': '.tsx', 'source': 'examples/vite-app/src/examples/Switch/index.tsx'}\n"
     ]
    }
   ],
   "source": [
    "print(docs[2].metadata)"
   ]
  },
  {
   "cell_type": "code",
   "execution_count": 30,
   "metadata": {},
   "outputs": [
    {
     "data": {
      "text/plain": [
       "\"/\\nYou are a Javascript developer. You are to write javascript code to accomplish the following goal. The goal is delimitted by triple back ticks. Please use the sample code. The sample code is delimitted by pipes.\\n\\n|import { useCallback } from 'react';\\nimport ReactFlow, { Node, Edge, addEdge, useNodesState, useEdgesState, MarkerType, OnConnect } from 'reactflow';\\n\\nimport CustomNode from './CustomNode';\\nimport FloatingEdge from './FloatingEdge';\\nimport CustomConnectionLine from './CustomConnectionLine';\\n\\nimport 'reactflow/dist/style.css';\\nimport './style.css';\\n\\nconst initialNodes: Node[] = [\\n  {\\n    id: '1',\\n    type: 'custom',\\n    position: { x: 0, y: 0 },\\n    data: {},\\n  },\\n  {\\n    id: '2',\\n    type: 'custom',\\n    position: { x: 250, y: 320 },\\n    data: {},\\n  },\\n  {\\n    id: '3',\\n    type: 'custom',\\n    position: { x: 40, y: 300 },\\n    data: {},\\n  },\\n  {\\n    id: '4',\\n    type: 'custom',\\n    position: { x: 300, y: 0 },\\n    data: {},\\n  },\\n];\\n\\nconst initialEdges: Edge[] = [];\\n\\nconst connectionLineStyle = {\\n  strokeWidth: 3,\\n  stroke: 'black',\\n};\\n\\nconst nodeTypes = {\\n  custom: CustomNode,\\n};\\n\\nconst edgeTypes = {\\n  floating: FloatingEdge,\\n};\\n\\nconst defaultEdgeOptions = {\\n  style: { strokeWidth: 3, stroke: 'black' },\\n  type: 'floating',\\n  markerEnd: {\\n    type: MarkerType.ArrowClosed,\\n    color: 'black',\\n  },\\n};\\n\\nconst EasyConnectExample = () => {\\n  const [nodes, setNodes, onNodesChange] = useNodesState(initialNodes);\\n  const [edges, setEdges, onEdgesChange] = useEdgesState(initialEdges);\\n\\n  const onConnect: OnConnect = useCallback((params) => setEdges((eds) => addEdge(params, eds)), [setEdges]);\\n\\n  return (\\n    <ReactFlow\\n      nodes={nodes}\\n      edges={edges}\\n      onNodesChange={onNodesChange}\\n      onEdgesChange={onEdgesChange}\\n      onConnect={onConnect}\\n      fitView\\n      nodeTypes={nodeTypes}\\n      edgeTypes={edgeTypes}\\n      defaultEdgeOptions={defaultEdgeOptions}\\n      connectionLineComponent={CustomConnectionLine}\\n      connectionLineStyle={connectionLineStyle}\\n    />\\n  );\\n};\\n\\nexport default EasyConnectExample;\\n|\\n\\n\\n```\\nHow do you connect two nodes in reactflow?\\n```\\n\""
      ]
     },
     "execution_count": 30,
     "metadata": {},
     "output_type": "execute_result"
    }
   ],
   "source": [
    "from langchain import PromptTemplate\n",
    "\n",
    "\n",
    "template = \"\"\"/\n",
    "You are a Javascript developer. You are to write javascript code to accomplish the following goal. The goal is delimitted by triple back ticks. Please use the sample code. The sample code is delimitted by pipes.\n",
    "\n",
    "|{sample_code}|\n",
    "\n",
    "\n",
    "```\n",
    "{query}\n",
    "```\n",
    "\"\"\"\n",
    "\n",
    "prompt_template = PromptTemplate.from_template(template)\n",
    "prompt = prompt_template.format(sample_code=sample_code, query=query)\n",
    "prompt"
   ]
  },
  {
   "cell_type": "code",
   "execution_count": 31,
   "metadata": {},
   "outputs": [
    {
     "name": "stdout",
     "output_type": "stream",
     "text": [
      "To connect two nodes in reactflow, you can use the `onConnect` callback function and the `addEdge` function from the `reactflow` library. Here's an example:\n",
      "\n",
      "1. Define the `onConnect` function:\n",
      "\n",
      "```\n",
      "const onConnect = (params) => {\n",
      "  const { source, target } = params;\n",
      "  const newEdge = {\n",
      "    id: `${source}-${target}`,\n",
      "    source,\n",
      "    target,\n",
      "  };\n",
      "  setEdges((edges) => [...edges, newEdge]);\n",
      "};\n",
      "```\n",
      "\n",
      "This function takes in a `params` object that contains the `source` and `target` node IDs of the new edge. It then creates a new edge object with a unique ID and the `source` and `target` IDs, and adds it to the `edges` state using the `setEdges` function.\n",
      "\n",
      "2. Pass the `onConnect` function to the `ReactFlow` component:\n",
      "\n",
      "```\n",
      "<ReactFlow\n",
      "  elements={elements}\n",
      "  onConnect={onConnect}\n",
      "/>\n",
      "```\n",
      "\n",
      "Here, `elements` is an array of node and edge objects that you want to render in the graph. The `onConnect` function is passed as a prop to the `ReactFlow` component, which will be called whenever a new edge is created by the user.\n",
      "\n",
      "3. Render the nodes and edges:\n",
      "\n",
      "```\n",
      "<ReactFlow\n",
      "  elements={elements}\n",
      "  onConnect={onConnect}\n",
      ">\n",
      "  <Background />\n",
      "  <Controls />\n",
      "</ReactFlow>\n",
      "```\n",
      "\n",
      "Here, `Background` and `Controls` are optional components that you can use to customize the appearance and behavior of the graph. The `elements` array should contain all the node and edge objects that you want to render in the graph.\n"
     ]
    }
   ],
   "source": [
    "from langchain.chat_models import ChatOpenAI\n",
    "from langchain.schema import (\n",
    "    AIMessage,\n",
    "    HumanMessage,\n",
    "    SystemMessage\n",
    ")\n",
    "\n",
    "chat = ChatOpenAI(temperature=0)\n",
    "response = chat.predict(prompt)\n",
    "print(response)"
   ]
  },
  {
   "cell_type": "code",
   "execution_count": 32,
   "metadata": {},
   "outputs": [
    {
     "name": "stdout",
     "output_type": "stream",
     "text": [
      "As an AI language model, I don't have the ability to perform actions on a user interface. However, I can provide you with the general steps to connect two nodes in ReactFlow:\n",
      "\n",
      "1. Click on the first node that you want to connect.\n",
      "2. Drag the mouse pointer to the second node that you want to connect.\n",
      "3. Release the mouse button to create a connection between the two nodes.\n",
      "4. You can also customize the connection by adding labels, changing the color, or adding arrowheads.\n",
      "\n",
      "Note: The exact steps may vary depending on the version of ReactFlow you are using.\n"
     ]
    }
   ],
   "source": [
    "response_2 = chat.predict(query)\n",
    "print(response_2)"
   ]
  }
 ],
 "metadata": {
  "kernelspec": {
   "display_name": ".venv",
   "language": "python",
   "name": "python3"
  },
  "language_info": {
   "codemirror_mode": {
    "name": "ipython",
    "version": 3
   },
   "file_extension": ".py",
   "mimetype": "text/x-python",
   "name": "python",
   "nbconvert_exporter": "python",
   "pygments_lexer": "ipython3",
   "version": "3.11.4"
  },
  "orig_nbformat": 4
 },
 "nbformat": 4,
 "nbformat_minor": 2
}
