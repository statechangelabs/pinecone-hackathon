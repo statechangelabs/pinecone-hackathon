{
 "cells": [
  {
   "cell_type": "code",
   "execution_count": null,
   "metadata": {},
   "outputs": [],
   "source": [
    "from git import Repo\n",
    "\n",
    "url = 'https://github.com/wbkd/react-flow'\n",
    "!rm -rf ./clone\n",
    "repo = Repo.clone_from(url, './clone')\n",
    "branch = repo.head.reference"
   ]
  },
  {
   "cell_type": "code",
   "execution_count": null,
   "metadata": {},
   "outputs": [],
   "source": [
    "from langchain.document_loaders import GitLoader\n",
    "\n",
    "loader = GitLoader(\n",
    "    repo_path=\"./clone\", \n",
    "    branch=branch, \n",
    "    file_filter=lambda x: x.endswith(\".js\") or x.endswith(\".jsx\") or x.endswith(\".ts\") or x.endswith(\".tsx\") or x.endswith(\".json\") or x.endswith(\".md\") or x.endswith(\".py\"))\n",
    "data = loader.load();\n",
    "\n",
    "len(data)\n",
    "\n",
    "# print(data[0])"
   ]
  },
  {
   "cell_type": "code",
   "execution_count": null,
   "metadata": {},
   "outputs": [],
   "source": [
    "# data"
   ]
  },
  {
   "cell_type": "code",
   "execution_count": null,
   "metadata": {},
   "outputs": [],
   "source": [
    "from dotenv import load_dotenv\n",
    "\n",
    "load_dotenv()"
   ]
  },
  {
   "cell_type": "code",
   "execution_count": null,
   "metadata": {},
   "outputs": [],
   "source": [
    "from os import environ\n",
    "\n",
    "environ.get(\"PINECONE_ENVIRONMENT\")"
   ]
  },
  {
   "cell_type": "code",
   "execution_count": null,
   "metadata": {},
   "outputs": [],
   "source": [
    "from langchain.embeddings.openai import OpenAIEmbeddings\n",
    "\n",
    "embeddings = OpenAIEmbeddings()"
   ]
  },
  {
   "cell_type": "code",
   "execution_count": null,
   "metadata": {},
   "outputs": [],
   "source": [
    "import pinecone\n",
    "from langchain.vectorstores import Pinecone\n",
    "from os import environ\n",
    "\n",
    "pinecone.init(\n",
    "    # api_key=environ.get(\"PINECONE_API_KEY\"), \n",
    "    # environment=environ.get(\"PINECONE_ENVIRONMENT\")\n",
    ")\n",
    "index_name = 'pinecone-hackathon-test'\n",
    "\n",
    "if index_name not in pinecone.list_indexes():\n",
    "    index= pinecone.create_index(\n",
    "        name=index_name, \n",
    "        metric='cosine', \n",
    "        shards=1, \n",
    "        dimension=1536\n",
    "    )\n",
    "index = pinecone.Index(index_name=index_name)\n",
    "\n",
    "index = Pinecone.from_documents(\n",
    "    data, \n",
    "    embeddings, \n",
    "    index_name=index_name, \n",
    "    batch_size=10\n",
    ")\n",
    "# for x in range(len(data)):\n",
    "#     print(\"adding: \" + str(x))\n",
    "#     if len(data[x].page_content) < 100000:\n",
    "#         index = Pinecone.from_documents([data[x]], embeddings, index_name=index_name)\n",
    "    \n",
    "# pinecone.add_documents(data, index_name=index_name)\n",
    "# index\n",
    "index"
   ]
  },
  {
   "cell_type": "code",
   "execution_count": null,
   "metadata": {},
   "outputs": [],
   "source": [
    "import pinecone \n",
    "pinecone.describe_index(index_name)\n",
    "\n",
    "# index.describe_index_stats()"
   ]
  },
  {
   "cell_type": "code",
   "execution_count": null,
   "metadata": {},
   "outputs": [],
   "source": []
  },
  {
   "cell_type": "code",
   "execution_count": null,
   "metadata": {},
   "outputs": [],
   "source": []
  },
  {
   "cell_type": "code",
   "execution_count": null,
   "metadata": {},
   "outputs": [],
   "source": []
  }
 ],
 "metadata": {
  "kernelspec": {
   "display_name": ".venv",
   "language": "python",
   "name": "python3"
  },
  "language_info": {
   "codemirror_mode": {
    "name": "ipython",
    "version": 3
   },
   "file_extension": ".py",
   "mimetype": "text/x-python",
   "name": "python",
   "nbconvert_exporter": "python",
   "pygments_lexer": "ipython3",
   "version": "3.10.6"
  },
  "orig_nbformat": 4
 },
 "nbformat": 4,
 "nbformat_minor": 2
}
